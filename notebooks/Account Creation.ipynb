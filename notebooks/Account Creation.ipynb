{
 "cells": [
  {
   "cell_type": "code",
   "execution_count": 1,
   "metadata": {},
   "outputs": [],
   "source": [
    "import flapjack\n",
    "from flapjack import Flapjack\n",
    "import getpass"
   ]
  },
  {
   "cell_type": "markdown",
   "metadata": {},
   "source": [
    "## Creating a Flapjack account using the Python Package"
   ]
  },
  {
   "cell_type": "code",
   "execution_count": 5,
   "metadata": {
    "scrolled": true
   },
   "outputs": [
    {
     "name": "stdout",
     "output_type": "stream",
     "text": [
      "Enter username: test4\n",
      "Enter email: test4@test.com\n",
      "Enter password: ········\n",
      "Confirm password: ········\n",
      "Account successfully created.\n"
     ]
    }
   ],
   "source": [
    "user = input(\"Enter username: \")\n",
    "email = input(\"Enter email: \")\n",
    "passwd = getpass.getpass(prompt=\"Enter password: \")\n",
    "passwd2 = getpass.getpass(prompt=\"Confirm password: \")\n",
    "fj = flapjack.Flapjack(url_base='localhost:8000')\n",
    "fj.sign_up(username=user, mail=email, password=passwd, password_confirm=passwd2)"
   ]
  },
  {
   "cell_type": "markdown",
   "metadata": {},
   "source": [
    "## Connecting to Flapjack"
   ]
  },
  {
   "cell_type": "code",
   "execution_count": 2,
   "metadata": {
    "scrolled": true
   },
   "outputs": [
    {
     "name": "stdout",
     "output_type": "stream",
     "text": [
      "Enter username: Test\n",
      "Enter password: ········\n",
      "Logged in successfully.\n"
     ]
    }
   ],
   "source": [
    "user = input(\"Enter username: \")\n",
    "passwd = getpass.getpass(prompt=\"Enter password: \")\n",
    "fj = flapjack.Flapjack(url_base='localhost:8000')\n",
    "fj.log_in(username=user, password=passwd)"
   ]
  }
 ],
 "metadata": {
  "kernelspec": {
   "display_name": "Python 3 (ipykernel)",
   "language": "python",
   "name": "python3"
  },
  "language_info": {
   "codemirror_mode": {
    "name": "ipython",
    "version": 3
   },
   "file_extension": ".py",
   "mimetype": "text/x-python",
   "name": "python",
   "nbconvert_exporter": "python",
   "pygments_lexer": "ipython3",
   "version": "3.8.13"
  },
  "vscode": {
   "interpreter": {
    "hash": "25a19fbe0a9132dfb9279d48d161753c6352f8f9478c2e74383d340069b907c3"
   }
  }
 },
 "nbformat": 4,
 "nbformat_minor": 2
}
