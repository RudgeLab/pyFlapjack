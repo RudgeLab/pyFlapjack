{
 "cells": [
  {
   "cell_type": "markdown",
   "metadata": {},
   "source": [
    "# Analysis of context effects on synthetic gene expression levels\n",
    "\n",
    "In this example we study the effects of compositional and cellular context on gene expression using triple reporter plasmids. See paper (https://www.biorxiv.org/content/10.1101/590299v1) for details of plasmid composition. In summary, each plasmid contains three transcription units producing RFP, YFP and CFP. The CFP TU is maintained the same in all plasmids, but the promoter of the RFP and YFP TUs is changed, generating 14 different combinations or contexts with a common reference gene.\n",
    "\n",
    "First lets import the packages that we need, including the Flapjack API, and set some parameters for plotting with matplotlib:"
   ]
  },
  {
   "cell_type": "code",
   "execution_count": null,
   "metadata": {},
   "outputs": [],
   "source": [
    "import flapjack\n",
    "from flapjack import Flapjack\n",
    "import numpy as np\n",
    "import matplotlib\n",
    "from matplotlib import pyplot as plt\n",
    "import plotly\n",
    "import plotly.express as px\n",
    "from plotly.subplots import make_subplots\n",
    "import plotly.graph_objects as go\n",
    "import plotly.io as io\n",
    "import json\n",
    "import pandas as pd\n",
    "import seaborn as sns\n",
    "import getpass\n",
    "%matplotlib inline\n",
    "\n",
    "SMALL_SIZE = 6\n",
    "MEDIUM_SIZE = 10\n",
    "BIGGER_SIZE = 12\n",
    "\n",
    "plt.rc('font', size=SMALL_SIZE)          # controls default text sizes\n",
    "plt.rc('axes', titlesize=SMALL_SIZE)     # fontsize of the axes title\n",
    "plt.rc('axes', labelsize=SMALL_SIZE)    # fontsize of the x and y labels\n",
    "plt.rc('xtick', labelsize=SMALL_SIZE)    # fontsize of the tick labels\n",
    "plt.rc('ytick', labelsize=SMALL_SIZE)    # fontsize of the tick labels\n",
    "plt.rc('legend', fontsize=SMALL_SIZE)    # legend fontsize\n",
    "plt.rc('figure', titlesize=SMALL_SIZE)  # fontsize of the figure title\n",
    "\n",
    "io.orca.shutdown_server()"
   ]
  },
  {
   "cell_type": "markdown",
   "metadata": {},
   "source": [
    "We login to the API"
   ]
  },
  {
   "cell_type": "code",
   "execution_count": null,
   "metadata": {},
   "outputs": [],
   "source": [
    "user = input()\n",
    "passwd = getpass.getpass()\n",
    "#fj = Flapjack('flapjack.rudge-lab.org:8000')\n",
    "fj = Flapjack('rudge-lab.org:8000')\n",
    "fj.log_in(username=user, password=passwd)"
   ]
  },
  {
   "cell_type": "markdown",
   "metadata": {},
   "source": [
    "## Figure 5B - Plotting the data\n",
    "\n",
    "As well as using the Flapjack webapp (https://github.com/SynBioUC/flapjack_frontend/wiki/Context-effects-on-gene-expression-levels), you can obtain the figure 5B using the Flapjack Python package. Filter the data to select: \n",
    "* study: \"Context effects\", \n",
    "* vector (plasmid): \"pAAA\",\n",
    "* strain: \"MG1655z1\",\n",
    "* media: \"M9-glucose\"\n",
    "\n",
    "To compare between measurements we can group the data by Vector (subplots), and \"Signal\" (lines). In order to compare different data with various magnitudes we normalize, here by the min/max of the measurements for each sample. \n",
    "\n",
    "* normalize='Min/Max',\n",
    "* subplots='Vector',\n",
    "* markers='Signal',\n",
    "* plot='Mean'"
   ]
  },
  {
   "cell_type": "code",
   "execution_count": null,
   "metadata": {},
   "outputs": [],
   "source": [
    "# Get objects ids\n",
    "study_id = fj.get('study', name='Context effects').id\n",
    "vector_id = fj.get('vector', name='pAAA').id\n",
    "strain_id = fj.get('strain', name='MG1655z1').id\n",
    "media_id = fj.get('media', name='M9-glucose').id\n",
    "\n",
    "# Query and plot data using Python package\n",
    "fig = fj.plot(study=study_id,\n",
    "              vector=vector_id,\n",
    "              strain=strain_id,\n",
    "              media=media_id,\n",
    "              normalize='Min/Max',\n",
    "              subplots='Vector',\n",
    "              markers='Signal',\n",
    "              plot='Mean')\n",
    "\n",
    "fig"
   ]
  },
  {
   "cell_type": "markdown",
   "metadata": {},
   "source": [
    "This plot looks nice in the web interface, but for publication or reports we can format them better using Plotly. Here we format the figure to be half the width of a 1-column figure (1.65 inches wide) and 6pt font."
   ]
  },
  {
   "cell_type": "code",
   "execution_count": null,
   "metadata": {},
   "outputs": [],
   "source": [
    "# Modify width and size\n",
    "fig = flapjack.layout_print(fig, width=1.65, height=1.1, font_size=6)\n",
    "fig"
   ]
  },
  {
   "cell_type": "code",
   "execution_count": null,
   "metadata": {},
   "outputs": [],
   "source": [
    "fname = 'Figure5B_raw.png'\n",
    "io.write_image(fig, fname)"
   ]
  },
  {
   "cell_type": "markdown",
   "metadata": {},
   "source": [
    "## Figure 5B - Plotting the expression rate of pAAA\n",
    "To analyze the behaviour of the TUs in more detail we can compute the expression rate (or synthesis rate) of the reporters using the direct method (Zulkower et al., 2015). To do this, we add filters to the method used above (fj.plot()):\n",
    "\n",
    "* type='Expression Rate (direct)'\n",
    "* degr=0,\n",
    "* eps_L=1e-7\n",
    "* biomass_signal=biomass_signal_id"
   ]
  },
  {
   "cell_type": "code",
   "execution_count": null,
   "metadata": {},
   "outputs": [],
   "source": [
    "# Get OD id\n",
    "biomass_signal_id = fj.get('signal', name='OD').id[0]\n",
    "\n",
    "# Query and plot data using Python package\n",
    "fig = fj.plot(study=study_id,\n",
    "              vector=vector_id,\n",
    "              strain=strain_id,\n",
    "              media=media_id,              \n",
    "              type='Expression Rate (direct)',\n",
    "              degr=0,\n",
    "              eps_L=1e-7,\n",
    "              biomass_signal=biomass_signal_id,\n",
    "              normalize='Mean/std',\n",
    "              subplots='Vector',\n",
    "              markers='Signal',\n",
    "              plot='Mean')\n",
    "\n",
    "fig"
   ]
  },
  {
   "cell_type": "code",
   "execution_count": null,
   "metadata": {
    "scrolled": true
   },
   "outputs": [],
   "source": [
    "# Modify width and size\n",
    "fig = flapjack.layout_print(fig, width=1.65, height=1.1, font_size=6)\n",
    "fig"
   ]
  },
  {
   "cell_type": "markdown",
   "metadata": {},
   "source": [
    "You can also save the figure as PNG (or hover the figure and click on the camera icon \"Download plot as png\") using the method:"
   ]
  },
  {
   "cell_type": "code",
   "execution_count": null,
   "metadata": {},
   "outputs": [],
   "source": [
    "fname = 'Figure5B_Expression_rate.png'\n",
    "io.write_image(fig, fname)"
   ]
  },
  {
   "cell_type": "markdown",
   "metadata": {},
   "source": [
    "## Figure 5C - Summarizing dynamics with mean expression rates\n",
    "As a first approach to the overall dynamics of a genetic circuit is to take the mean level of expression, as approximated by the signal detected in the assay. This allows us to compare the average rates of gene expression"
   ]
  },
  {
   "cell_type": "code",
   "execution_count": null,
   "metadata": {},
   "outputs": [],
   "source": [
    "od = fj.get('signal', name='OD')\n",
    "cfp = fj.get('signal', name='CFP')\n",
    "study = fj.get('study', name=['Context effects'])\n",
    "exp = fj.analysis(study=study.id,\n",
    "                    type='Mean Expression',\n",
    "                    biomass_signal=od.id[0]\n",
    "                      )"
   ]
  },
  {
   "cell_type": "code",
   "execution_count": null,
   "metadata": {},
   "outputs": [],
   "source": [
    "nexp = pd.DataFrame()\n",
    "for samp, data in exp.groupby('Sample'):\n",
    "    yfp = data[data.Signal=='YFP']['Expression'].values\n",
    "    rfp = data[data.Signal=='RFP']['Expression'].values\n",
    "    cfp = data[data.Signal=='CFP']['Expression'].values\n",
    "    data.loc[data.Signal=='YFP', ['Expression']] = yfp/cfp\n",
    "    data.loc[data.Signal=='RFP', ['Expression']] = rfp/cfp\n",
    "    nexp = nexp.append(data)"
   ]
  },
  {
   "cell_type": "markdown",
   "metadata": {},
   "source": [
    "Create a heatmap of gene expression in each condition by pivoting the dataframe:"
   ]
  },
  {
   "cell_type": "code",
   "execution_count": null,
   "metadata": {},
   "outputs": [],
   "source": [
    "fig,ax = plt.subplots(2,1, figsize=(3.5,2.25), sharex=True)\n",
    "for i,name in enumerate(['RFP', 'YFP']):\n",
    "    df_x = nexp[nexp['Signal']==name].copy()\n",
    "    df_heatmap = df_x.pivot_table(values='Expression',\n",
    "                                index=['Strain', 'Media'],\n",
    "                                columns='Vector', aggfunc=np.mean)\n",
    "    # pAAAF is used in Figure 6\n",
    "    if 'pAAAF' in df_heatmap.columns:\n",
    "        df_heatmap = df_heatmap.drop('pAAAF', axis=1)\n",
    "    # Normalize to mean of columns\n",
    "    df_heatmap = df_heatmap / df_heatmap.mean()\n",
    "    # Normalize rows to mean\n",
    "    #df_heatmap = df_heatmap.div( df_heatmap.mean(axis=1), axis=0 )\n",
    "    # Take log of normalized values\n",
    "    df_heatmap = df_heatmap.apply(np.log2)\n",
    "    \n",
    "    # Plot heatmap\n",
    "    sns.heatmap(df_heatmap, annot=False, ax=ax[i], \n",
    "                square=True, \n",
    "                cmap='bwr', \n",
    "                center=0,\n",
    "                #clim=[-1,1],\n",
    "                vmin=-1, vmax=1, \n",
    "                facecolor='gray',\n",
    "                linewidths=0.5, linecolor='black')\n",
    "    # Format plot\n",
    "    bottom, top = ax[i].get_ylim()\n",
    "    ax[i].set_ylim(bottom + 0.5, top - 0.5)\n",
    "    ax[i].set_title(name)\n",
    "    ax[i].set_xlabel('')\n",
    "    ax[i].set_ylabel('')\n",
    "    #plt.tight_layout()\n",
    "    plt.subplots_adjust(hspace=0.2)\n",
    "    plt.xticks(rotation=90)\n",
    "    plt.title(name)\n",
    "plt.tight_layout()\n",
    "plt.savefig('heatmap_rpus.png', dpi=300, bbox_inches='tight')"
   ]
  },
  {
   "cell_type": "markdown",
   "metadata": {},
   "source": [
    "## Figure 5D - Using SynbioHub to compare compositional contexts\n",
    "\n",
    "First get the DNAs in the study:"
   ]
  },
  {
   "cell_type": "markdown",
   "metadata": {},
   "source": [
    "Next we query SynbioHub to get the part composition and add this to our dataframe. We are interested in the identity of the RFP and CFP TUs, which are encoded as \"engineered regions\":"
   ]
  },
  {
   "cell_type": "code",
   "execution_count": null,
   "metadata": {
    "scrolled": true
   },
   "outputs": [],
   "source": [
    "from sbol2 import *\n",
    "\n",
    "# Some nicer names for display purposes\n",
    "TU_names = {\n",
    "    'TU1_1': 'A',\n",
    "    'TU1_2': 'B',\n",
    "    'TU1_5': 'E',\n",
    "    'TU1_8': 'G',\n",
    "    \n",
    "    'TU2_1': 'A',\n",
    "    'TU2_3': 'C',\n",
    "    'TU2_5': 'E',\n",
    "    'TU2_6': 'D',\n",
    "    'TU2_7': 'F',\n",
    "}\n",
    "\n",
    "# The URI of \"Engineered region\" used to encode the TUs\n",
    "TU_role = 'http://identifiers.org/so/SO:0000804'\n",
    "\n",
    "df = nexp.copy()\n",
    "vectors = df.Vector.unique()\n",
    "\n",
    "synbiouc = PartShop('http://3.128.232.8:7777')\n",
    "\n",
    "result = pd.DataFrame()\n",
    "rows_to_add = []\n",
    "for vector in vectors:\n",
    "    vec = fj.get('vector', name=[vector])\n",
    "    dna_id = vec.dnas[0]\n",
    "    dna = fj.get('dna', id=[dna_id])\n",
    "    sboluri = dna.sboluri[0]\n",
    "    data = df[df.Vector==vec.name[0]]\n",
    "\n",
    "    if sboluri!='':\n",
    "        # Create a new SBOL document\n",
    "        doc = Document()\n",
    "        synbiouc.pull(sboluri, doc)\n",
    "        plasmid = doc.componentDefinitions[sboluri]\n",
    "        composition = plasmid.getPrimaryStructure()\n",
    "        TUs = [component.displayId for component in composition \\\n",
    "                       if TU_role in component.roles]\n",
    "        # The first TU is the RFP TU\n",
    "        data = data.assign(rfp_tu=TU_names[TUs[0]])\n",
    "        # The second TU is the YFP TU\n",
    "        data = data.assign(yfp_tu=TU_names[TUs[1]])\n",
    "        rows_to_add.append(data)\n",
    "    else:\n",
    "        print(f\"Vector {vector} does not have SBOL URI\")\n",
    "\n",
    "df = result.append(rows_to_add)"
   ]
  },
  {
   "cell_type": "code",
   "execution_count": null,
   "metadata": {},
   "outputs": [],
   "source": [
    "np.any(np.isnan(df.Expression.values))"
   ]
  },
  {
   "cell_type": "markdown",
   "metadata": {},
   "source": [
    "Now we can make heatmaps to compare the mean expression rate ratio of each TU in its different compositional contexts. To do this we pivot the table to have the YFP TU name along the x-axis and the RFP-TU along the y-axis. In order to see the effect of context irrespetive of the overall magnitude of expression, we normalize by the mean of the rows of the heatmap for RFP and the columns for YFP. We then take the log base 2 to see the fold change over the mean. In this way we expect the heatmap to be uniformly zero if there are no context effects."
   ]
  },
  {
   "cell_type": "code",
   "execution_count": null,
   "metadata": {},
   "outputs": [],
   "source": [
    "grouped_media = df.groupby('Media')\n",
    "for media,media_data in grouped_media:\n",
    "    grouped_strain = media_data.groupby('Strain')\n",
    "    for strain,df in grouped_strain:\n",
    "        fig,ax = plt.subplots(1,2, figsize=(3.3,1.4), sharex=False, sharey=False)\n",
    "        #cbar_ax = fig.add_axes([0.91, .1, .03, .75])\n",
    "        cbar_ax = fig.add_axes([0.9, .1, .03, .75])\n",
    "        df_c = df[df['Signal']=='CFP']\n",
    "        for name,i in zip(['RFP', 'YFP'], np.arange(0,2)):\n",
    "            df_x = df[df['Signal']==name].copy(deep=True)\n",
    "            df_heatmap = df_x.pivot_table(values='Expression',\n",
    "                                            index='rfp_tu',\n",
    "                                            columns='yfp_tu', aggfunc=np.mean)\n",
    "            if name=='YFP':\n",
    "                # Normalize columns to mean\n",
    "                df_heatmap = df_heatmap / df_heatmap.mean()\n",
    "            else:\n",
    "                # Normalize rows to mean\n",
    "                df_heatmap = df_heatmap.div( df_heatmap.mean(axis=1), axis=0 )\n",
    "            \n",
    "            # Take log of normalized values\n",
    "            df_heatmap = df_heatmap.apply(np.log2)\n",
    "                \n",
    "            g = sns.heatmap(df_heatmap, annot=True, ax=ax[i], \n",
    "                        square=True, fmt='0.1f', cmap='bwr', \n",
    "                        center=0, vmin=-3., vmax=3., linewidths=1, linecolor='black',\n",
    "                        cbar=(i==1), cbar_ax=cbar_ax)\n",
    "            g.set_facecolor('gray')\n",
    "            bottom, top = ax[i].get_ylim()\n",
    "            ax[i].set_title(name)\n",
    "            #ax[i].set_ylim(bottom + 0.5, top - 0.5)\n",
    "            ax[i].set_xlabel('YFP TU')\n",
    "            if i==0:\n",
    "                ax[i].set_ylabel('RFP TU')\n",
    "            else:\n",
    "                ax[i].set_ylabel('')\n",
    "        plt.subplots_adjust(bottom=0.3)\n",
    "        plt.suptitle(strain + ' in ' + media)\n",
    "        plt.savefig('heatmap_rpu_tu_'+media+'_'+strain+'.png', dpi=300)"
   ]
  },
  {
   "cell_type": "markdown",
   "metadata": {},
   "source": [
    "## Figure 5E - Effect of context on gene expression time dynamics"
   ]
  },
  {
   "cell_type": "code",
   "execution_count": null,
   "metadata": {},
   "outputs": [],
   "source": [
    "study = fj.get('study', name='Context effects')\n",
    "study_id = fj.get('study', name='Context effects').id\n",
    "od = fj.get('signal', name='OD')"
   ]
  },
  {
   "cell_type": "code",
   "execution_count": null,
   "metadata": {},
   "outputs": [],
   "source": [
    "yfp_vectors = [\n",
    "    ['pBFA', 'pEFA', 'pGFA'],\n",
    "    ['pBDA', 'pEDA', 'pGDA'],\n",
    "    ['pBCA', 'pECA', 'pGCA'],\n",
    "    ['pAAA', 'pBAA', 'pEAA', 'pGAA']\n",
    "]\n",
    "\n",
    "yfp_vector_ids = [[fj.get('vector', name=name).id[0] for name in vecs] for vecs in yfp_vectors]\n",
    "yfp_id = fj.get('signal', name='YFP').id\n",
    "\n",
    "medias = ['M9-glucose', 'M9-glycerol']\n",
    "strains = ['MG1655z1', 'Top10']\n",
    "\n",
    "# YFP figures\n",
    "for media in medias:\n",
    "    for strain in strains:\n",
    "        print(media, strain)\n",
    "        for vi,vector_id in enumerate(yfp_vector_ids):\n",
    "            media_id = fj.get('media', name=media).id\n",
    "            strain_id = fj.get('strain', name=strain).id\n",
    "            fig = fj.plot(study=study.id, \n",
    "                           vector=vector_id,\n",
    "                           media=media_id,\n",
    "                           strain=strain_id,\n",
    "                           signal=yfp_id,\n",
    "                           type='Expression Rate (direct)',\n",
    "                           degr=0,\n",
    "                           eps_L=1e-6,\n",
    "                           biomass_signal=od.id[0],\n",
    "                           normalize='Mean/std', \n",
    "                           subplots='Signal', \n",
    "                           markers='Vector', \n",
    "                           plot='Mean')\n",
    "            fig = flapjack.layout_print(fig, width=1.65, height=1.25)\n",
    "            fname = '-'.join([media, strain, yfp_vectors[vi][0][2], 'YFP.png'])\n",
    "            io.write_image(fig, fname)"
   ]
  },
  {
   "cell_type": "code",
   "execution_count": null,
   "metadata": {},
   "outputs": [],
   "source": [
    "rfp_vectors = [\n",
    "    ['pBAA', 'pBCA', 'pBDA', 'pBFA'],\n",
    "    ['pEAA', 'pECA', 'pEDA', 'pEFA'],\n",
    "    ['pGAA', 'pGCA', 'pGDA', 'pGEA', 'pGFA']\n",
    "]\n",
    "\n",
    "rfp_vector_ids = [[fj.get('vector', name=name).id[0] for name in vecs] for vecs in rfp_vectors]\n",
    "rfp_id = fj.get('signal', name='RFP').id\n",
    "\n",
    "medias = ['M9-glucose', 'M9-glycerol']\n",
    "strains = ['MG1655z1', 'Top10']\n",
    "\n",
    "# RFP figures\n",
    "for media in medias:\n",
    "    for strain in strains:\n",
    "        print(media, strain)\n",
    "        for vi,vector_id in enumerate(rfp_vector_ids):            \n",
    "            media_id = fj.get('media', name=media).id\n",
    "            strain_id = fj.get('strain', name=strain).id\n",
    "            fig = fj.plot(study=study.id, \n",
    "                           vector=vector_id,\n",
    "                           media=media_id,\n",
    "                           strain=strain_id,\n",
    "                           signal=rfp_id,\n",
    "                           type='Expression Rate (direct)',\n",
    "                           degr=0,\n",
    "                           eps_L=1e-6,\n",
    "                           biomass_signal=od.id[0], \n",
    "                           normalize='Mean/std', \n",
    "                           subplots='Signal', \n",
    "                           markers='Vector', \n",
    "                           plot='Mean')\n",
    "            fig = flapjack.layout_print(fig, width=1.65, height=1.25)\n",
    "            fname = '-'.join([media, strain, rfp_vectors[vi][0][1], 'RFP.png'])\n",
    "            io.write_image(fig, fname)"
   ]
  },
  {
   "cell_type": "code",
   "execution_count": null,
   "metadata": {},
   "outputs": [],
   "source": [
    "cfp_id = fj.get('signal', name='CFP').id\n",
    "fig = fj.plot(study=study.id, \n",
    "               signal=cfp_id,\n",
    "               type='Expression Rate (direct)',\n",
    "               degr=0,\n",
    "               eps_L=1e-6,\n",
    "               biomass_signal=od.id[0],\n",
    "               normalize='Mean/std', \n",
    "               subplots='Signal', \n",
    "               markers='Vector', \n",
    "               plot='Mean')\n",
    "fig = flapjack.layout_print(fig, width=1.65, height=1.25)\n",
    "fig.update_traces(showlegend=False)\n",
    "fname = 'CFP.png'\n",
    "io.write_image(fig, fname)"
   ]
  }
 ],
 "metadata": {
  "kernelspec": {
   "display_name": "Python 3",
   "language": "python",
   "name": "python3"
  },
  "language_info": {
   "codemirror_mode": {
    "name": "ipython",
    "version": 3
   },
   "file_extension": ".py",
   "mimetype": "text/x-python",
   "name": "python",
   "nbconvert_exporter": "python",
   "pygments_lexer": "ipython3",
   "version": "3.7.6"
  }
 },
 "nbformat": 4,
 "nbformat_minor": 2
}
