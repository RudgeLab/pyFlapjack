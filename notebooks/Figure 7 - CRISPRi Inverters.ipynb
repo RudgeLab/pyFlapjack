{
 "cells": [
  {
   "cell_type": "markdown",
   "metadata": {},
   "source": [
    "# CRISPRi for transcription regulation\n",
    "\n",
    "First import the API and other packages we need:"
   ]
  },
  {
   "cell_type": "code",
   "execution_count": null,
   "metadata": {},
   "outputs": [],
   "source": [
    "import flapjack\n",
    "from flapjack import Flapjack\n",
    "import numpy as np\n",
    "import plotly\n",
    "import plotly.graph_objects as go\n",
    "import plotly.io as io\n",
    "import getpass\n",
    "import pandas as pd\n",
    "import seaborn as sns\n",
    "%matplotlib inline"
   ]
  },
  {
   "cell_type": "markdown",
   "metadata": {},
   "source": [
    "Next we connect to Flapjack by creating a session with our login:"
   ]
  },
  {
   "cell_type": "code",
   "execution_count": null,
   "metadata": {},
   "outputs": [],
   "source": [
    "user = input()\n",
    "passwd = getpass.getpass()\n",
    "fj = Flapjack('flapjack.rudge-lab.org:8000')\n",
    "fj.log_in(username=user, password=passwd)"
   ]
  },
  {
   "cell_type": "markdown",
   "metadata": {},
   "source": [
    "## Figure 7B - Induction curves"
   ]
  },
  {
   "cell_type": "markdown",
   "metadata": {},
   "source": [
    "As well as using the Flapjack webapp (https://github.com/SynBioUC/flapjack_frontend/wiki/dCas9-Inverters), you can obtain the figure 7B using the Flapjack Python package. Filter the data to select: \n",
    "* study: \"dCas9 Inverters\", \n",
    "* vector (plasmid): 'CcaT+TMA2','CcaT+TMA4','CcaT+TMA5',\n",
    "\n",
    "To plot all points and not just the mean, select 'All data points' in plot: \n",
    "\n",
    "* normalize='None',\n",
    "* subplots='Signal',\n",
    "* markers='Vector',\n",
    "* plot='All data points'"
   ]
  },
  {
   "cell_type": "code",
   "execution_count": null,
   "metadata": {},
   "outputs": [],
   "source": [
    "study_id = fj.get('study', name='dCas9 Inverters').id\n",
    "vector_names = ['CcaT+TMA2','CcaT+TMA4','CcaT+TMA5']\n",
    "vector_ids = [fj.get('vector', name=v).id for v in vector_names]\n",
    "iptg_id = fj.get('chemical', name='IPTG').id\n",
    "biomass_signal_id = fj.get('signal', name='OD').id[0]"
   ]
  },
  {
   "cell_type": "code",
   "execution_count": null,
   "metadata": {
    "scrolled": true
   },
   "outputs": [],
   "source": [
    "fig = fj.plot(study=study_id,                     \n",
    "                vector=vector_ids,\n",
    "                type='Induction Curve',\n",
    "                analyte=iptg_id,\n",
    "                function='Mean Expression',\n",
    "                biomass_signal=biomass_signal_id,\n",
    "                normalize='None',\n",
    "                subplots='Signal',\n",
    "                markers='Vector',\n",
    "                plot='All data points'\n",
    "       )\n",
    "fig"
   ]
  },
  {
   "cell_type": "code",
   "execution_count": null,
   "metadata": {},
   "outputs": [],
   "source": [
    "# Modify width and size (optional)\n",
    "fig = flapjack.layout_print(fig, width=4.5, height=1.5, font_size=6)\n",
    "fig.update_xaxes(tickangle=30)\n",
    "fig"
   ]
  },
  {
   "cell_type": "code",
   "execution_count": null,
   "metadata": {},
   "outputs": [],
   "source": [
    "fname = 'Fig7B.png'\n",
    "io.write_image(fig, fname)"
   ]
  },
  {
   "cell_type": "markdown",
   "metadata": {},
   "source": [
    "## Figure 7C - Fit Hill functions"
   ]
  },
  {
   "cell_type": "code",
   "execution_count": null,
   "metadata": {
    "scrolled": true
   },
   "outputs": [],
   "source": [
    "params = pd.DataFrame()\n",
    "for vec in vector_names:\n",
    "    vector_id = fj.get('vector', name=vec).id\n",
    "    df = fj.analysis(vector=vector_id,\n",
    "                     analyte=iptg_id,\n",
    "                     type='Induction Curve',\n",
    "                     function='Mean Expression',\n",
    "                     biomass_signal=biomass_signal_id\n",
    "                    )\n",
    "    for sig in ['YFP', 'CFP']:\n",
    "        data = df[df.Signal==sig]\n",
    "        p,std = flapjack.fit_curve(\n",
    "            flapjack.hill, \n",
    "            data, \n",
    "            x='Concentration', y='Expression',\n",
    "            bounds=[[0,0,0,0], [1e6,1e6,1e-3,4]]\n",
    "        )\n",
    "        params = params.append({\n",
    "            'Vector': vec, \n",
    "            'Signal': sig,\n",
    "            'a': p[0],\n",
    "            'b': p[1],\n",
    "            'K': p[2],\n",
    "            'n': p[3],\n",
    "        }, ignore_index=True) \n",
    "        #[(vec, sig)] = p, std\n",
    "    sig = 'OD'\n",
    "    data = df[df.Signal==sig]\n",
    "    p,std = flapjack.fit_curve(\n",
    "        flapjack.hill, \n",
    "        data, \n",
    "        x='Concentration', y='Expression',\n",
    "        bounds=[[0,0,0,0], [2,2,1e-3,4]]\n",
    "    )\n",
    "    params = params.append({\n",
    "        'Vector': vec, \n",
    "        'Signal': sig,\n",
    "        'a': p[0],\n",
    "        'b': p[1],\n",
    "        'K': p[2],\n",
    "        'n': p[3],\n",
    "    }, ignore_index=True) \n",
    "    #params[(vec, sig)] = p, std"
   ]
  },
  {
   "cell_type": "code",
   "execution_count": null,
   "metadata": {},
   "outputs": [],
   "source": [
    "params.to_csv('CRISPRi_induction_params.csv')"
   ]
  },
  {
   "cell_type": "markdown",
   "metadata": {},
   "source": [
    "## Figure 7D - Kymographs"
   ]
  },
  {
   "cell_type": "markdown",
   "metadata": {},
   "source": [
    "As well as using the Flapjack webapp (https://github.com/SynBioUC/flapjack_frontend/wiki/dCas9-Inverters), you can obtain figure 7D using the Flapjack Python package."
   ]
  },
  {
   "cell_type": "markdown",
   "metadata": {},
   "source": [
    "### Direct"
   ]
  },
  {
   "cell_type": "code",
   "execution_count": null,
   "metadata": {},
   "outputs": [],
   "source": [
    "study_id = fj.get('study', name='dCas9 Inverters').id\n",
    "biomass_signal_id = fj.get('signal', name='OD').id[0]\n",
    "vector_names = ['CcaT+TMA2', 'CcaT+TMA4', 'CcaT+TMA5']\n",
    "iptg_id = fj.get('chemical', name='IPTG').id[0]\n",
    "\n",
    "for vec in vector_names:\n",
    "    vector_id = fj.get('vector', name=vec).id\n",
    "    fig = fj.plot(study=study_id,\n",
    "                 vector=vector_id,\n",
    "                 type='Kymograph',\n",
    "                 analyte=iptg_id,\n",
    "                 function='Expression Rate (direct)',\n",
    "                 degr=0,\n",
    "                 eps_L=1e-6,\n",
    "                 biomass_signal=biomass_signal_id,\n",
    "                 normalize='None',\n",
    "                 subplots='Signal',\n",
    "                 markers='Vector',\n",
    "                 plot='Mean')\n",
    "    fig = flapjack.layout_print(fig, width=4, height=1.5)\n",
    "    fig.update_xaxes(tickangle=30)\n",
    "    fname = vec + '_kymograph.png'\n",
    "    io.write_image(fig, fname)"
   ]
  }
 ],
 "metadata": {
  "kernelspec": {
   "display_name": "Python 3",
   "language": "python",
   "name": "python3"
  },
  "language_info": {
   "codemirror_mode": {
    "name": "ipython",
    "version": 3
   },
   "file_extension": ".py",
   "mimetype": "text/x-python",
   "name": "python",
   "nbconvert_exporter": "python",
   "pygments_lexer": "ipython3",
   "version": "3.7.6"
  }
 },
 "nbformat": 4,
 "nbformat_minor": 4
}
